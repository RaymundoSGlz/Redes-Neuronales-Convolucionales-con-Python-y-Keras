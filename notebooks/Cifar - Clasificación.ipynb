{
 "cells": [
  {
   "attachments": {},
   "cell_type": "markdown",
   "metadata": {},
   "source": [
    "## Importando librerías"
   ]
  },
  {
   "cell_type": "code",
   "execution_count": 1,
   "metadata": {},
   "outputs": [],
   "source": [
    "# Librearías tensorflow\n",
    "from tensorflow import keras\n",
    "from tensorflow.keras import regularizers\n",
    "from tensorflow.keras.utils import to_categorical\n",
    "from tensorflow.keras.models import Sequential\n",
    "from tensorflow.keras.datasets import cifar10\n",
    "from tensorflow.keras.layers import (Conv2D, MaxPooling2D, Flatten,\n",
    "                                     Dense, Dropout, Activation, BatchNormalization)\n",
    "from tensorflow.keras.callbacks import ModelCheckpoint\n",
    "from tensorflow.keras.preprocessing.image import ImageDataGenerator\n",
    "\n",
    "# Librerías de apoyo\n",
    "import numpy as np\n",
    "import matplotlib.pyplot as plt"
   ]
  },
  {
   "attachments": {},
   "cell_type": "markdown",
   "metadata": {},
   "source": [
    "## Carga de datos"
   ]
  },
  {
   "cell_type": "code",
   "execution_count": 2,
   "metadata": {},
   "outputs": [
    {
     "name": "stdout",
     "output_type": "stream",
     "text": [
      "Downloading data from https://www.cs.toronto.edu/~kriz/cifar-10-python.tar.gz\n",
      "170498071/170498071 [==============================] - 24s 0us/step\n"
     ]
    }
   ],
   "source": [
    "(x_train, y_train), (x_test, y_test) = cifar10.load_data()"
   ]
  },
  {
   "cell_type": "code",
   "execution_count": 4,
   "metadata": {},
   "outputs": [
    {
     "data": {
      "image/png": "[encoded data removed]",
      "text/plain": [
       "<Figure size 640x480 with 1 Axes>"
      ]
     },
     "metadata": {},
     "output_type": "display_data"
    }
   ],
   "source": [
    "# Mostremos una imagen de ejemplo\n",
    "plt.imshow(x_train[5]);"
   ]
  },
  {
   "attachments": {},
   "cell_type": "markdown",
   "metadata": {},
   "source": [
    "## Limpieza de datos"
   ]
  },
  {
   "cell_type": "code",
   "execution_count": 5,
   "metadata": {},
   "outputs": [],
   "source": [
    "# Normalizamos los datos\n",
    "x_train = x_train.astype('float32') / 255\n",
    "x_test = x_test.astype('float32') / 255"
   ]
  },
  {
   "cell_type": "code",
   "execution_count": 6,
   "metadata": {},
   "outputs": [],
   "source": [
    "num_classes = len(np.unique(y_train))\n",
    "# Convertimos las etiquetas a one-hot\n",
    "y_train = to_categorical(y_train, num_classes)\n",
    "y_test = to_categorical(y_test, num_classes)"
   ]
  },
  {
   "cell_type": "code",
   "execution_count": 8,
   "metadata": {},
   "outputs": [
    {
     "data": {
      "text/plain": [
       "array([0., 0., 0., 0., 0., 0., 1., 0., 0., 0.], dtype=float32)"
      ]
     },
     "execution_count": 8,
     "metadata": {},
     "output_type": "execute_result"
    }
   ],
   "source": [
    "y_train[0]"
   ]
  },
  {
   "attachments": {},
   "cell_type": "markdown",
   "metadata": {},
   "source": [
    "## División de datos"
   ]
  },
  {
   "cell_type": "code",
   "execution_count": 10,
   "metadata": {},
   "outputs": [
    {
     "name": "stdout",
     "output_type": "stream",
     "text": [
      "x_training shape: 45000\n",
      "x_val shape: 5000\n",
      "x_test shape: 10000\n"
     ]
    }
   ],
   "source": [
    "# Dividimos los datos de entrenamiento en entrenamiento y validación\n",
    "x_training, x_val = x_train[5000:], x_train[:5000]\n",
    "y_training, y_val = y_train[5000:], y_train[:5000]\n",
    "\n",
    "# Forma de los datos\n",
    "print('x_training shape:', x_training.shape[0])\n",
    "print('x_val shape:', x_val.shape[0])\n",
    "print('x_test shape:', x_test.shape[0])\n"
   ]
  },
  {
   "attachments": {},
   "cell_type": "markdown",
   "metadata": {},
   "source": [
    "## Creación del modelo"
   ]
  },
  {
   "cell_type": "code",
   "execution_count": 11,
   "metadata": {},
   "outputs": [],
   "source": [
    "base_filtros = 32 # Número de filtros base\n",
    "kernel_size = (3, 3) # Tamaño de los filtros\n",
    "w_regularizer = 1e-4 # Peso de la regularización"
   ]
  },
  {
   "cell_type": "code",
   "execution_count": 12,
   "metadata": {},
   "outputs": [
    {
     "name": "stdout",
     "output_type": "stream",
     "text": [
      "Model: \"sequential\"\n",
      "_________________________________________________________________\n",
      " Layer (type)                Output Shape              Param #   \n",
      "=================================================================\n",
      " conv2d (Conv2D)             (None, 32, 32, 32)        896       \n",
      "                                                                 \n",
      " activation (Activation)     (None, 32, 32, 32)        0         \n",
      "                                                                 \n",
      " batch_normalization (BatchN  (None, 32, 32, 32)       128       \n",
      " ormalization)                                                   \n",
      "                                                                 \n",
      " conv2d_1 (Conv2D)           (None, 32, 32, 32)        9248      \n",
      "                                                                 \n",
      " activation_1 (Activation)   (None, 32, 32, 32)        0         \n",
      "                                                                 \n",
      " batch_normalization_1 (Batc  (None, 32, 32, 32)       128       \n",
      " hNormalization)                                                 \n",
      "                                                                 \n",
      " max_pooling2d (MaxPooling2D  (None, 16, 16, 32)       0         \n",
      " )                                                               \n",
      "                                                                 \n",
      " dropout (Dropout)           (None, 16, 16, 32)        0         \n",
      "                                                                 \n",
      " conv2d_2 (Conv2D)           (None, 16, 16, 64)        18496     \n",
      "                                                                 \n",
      " activation_2 (Activation)   (None, 16, 16, 64)        0         \n",
      "                                                                 \n",
      " batch_normalization_2 (Batc  (None, 16, 16, 64)       256       \n",
      " hNormalization)                                                 \n",
      "                                                                 \n",
      " dropout_1 (Dropout)         (None, 16, 16, 64)        0         \n",
      "                                                                 \n",
      " conv2d_3 (Conv2D)           (None, 16, 16, 64)        36928     \n",
      "                                                                 \n",
      " activation_3 (Activation)   (None, 16, 16, 64)        0         \n",
      "                                                                 \n",
      " batch_normalization_3 (Batc  (None, 16, 16, 64)       256       \n",
      " hNormalization)                                                 \n",
      "                                                                 \n",
      " max_pooling2d_1 (MaxPooling  (None, 8, 8, 64)         0         \n",
      " 2D)                                                             \n",
      "                                                                 \n",
      " dropout_2 (Dropout)         (None, 8, 8, 64)          0         \n",
      "                                                                 \n",
      " conv2d_4 (Conv2D)           (None, 8, 8, 128)         73856     \n",
      "                                                                 \n",
      " activation_4 (Activation)   (None, 8, 8, 128)         0         \n",
      "                                                                 \n",
      " batch_normalization_4 (Batc  (None, 8, 8, 128)        512       \n",
      " hNormalization)                                                 \n",
      "                                                                 \n",
      " conv2d_5 (Conv2D)           (None, 8, 8, 128)         147584    \n",
      "                                                                 \n",
      " activation_5 (Activation)   (None, 8, 8, 128)         0         \n",
      "                                                                 \n",
      " batch_normalization_5 (Batc  (None, 8, 8, 128)        512       \n",
      " hNormalization)                                                 \n",
      "                                                                 \n",
      " max_pooling2d_2 (MaxPooling  (None, 4, 4, 128)        0         \n",
      " 2D)                                                             \n",
      "                                                                 \n",
      " dropout_3 (Dropout)         (None, 4, 4, 128)         0         \n",
      "                                                                 \n",
      " flatten (Flatten)           (None, 2048)              0         \n",
      "                                                                 \n",
      " dense (Dense)               (None, 10)                20490     \n",
      "                                                                 \n",
      "=================================================================\n",
      "Total params: 309,290\n",
      "Trainable params: 308,394\n",
      "Non-trainable params: 896\n",
      "_________________________________________________________________\n"
     ]
    }
   ],
   "source": [
    "# Modelo secuencial\n",
    "model = Sequential()\n",
    "## Convolución 1\n",
    "model.add(Conv2D(base_filtros, kernel_size, padding='same',\n",
    "                    kernel_regularizer=regularizers.l2(w_regularizer),\n",
    "                    input_shape=x_training.shape[1:]))\n",
    "model.add(Activation('relu')) # Función de activación\n",
    "model.add(BatchNormalization()) # Normalización de los datos\n",
    "## Convolución 2\n",
    "model.add(Conv2D(base_filtros, kernel_size, padding='same',\n",
    "                    kernel_regularizer=regularizers.l2(w_regularizer)))\n",
    "model.add(Activation('relu'))\n",
    "model.add(BatchNormalization())\n",
    "model.add(MaxPooling2D(pool_size=(2, 2))) # Max pooling\n",
    "model.add(Dropout(0.2)) # Dropout del 20%\n",
    "## Convolución 3\n",
    "model.add(Conv2D(base_filtros * 2, kernel_size, padding='same',\n",
    "                    kernel_regularizer=regularizers.l2(w_regularizer)))\n",
    "model.add(Activation('relu'))\n",
    "model.add(BatchNormalization())\n",
    "model.add(Dropout(0.2))\n",
    "## Convolución 4\n",
    "model.add(Conv2D(base_filtros * 2, kernel_size, padding='same',\n",
    "                    kernel_regularizer=regularizers.l2(w_regularizer)))\n",
    "model.add(Activation('relu'))\n",
    "model.add(BatchNormalization())\n",
    "model.add(MaxPooling2D(pool_size=(2, 2)))\n",
    "model.add(Dropout(0.3))\n",
    "## Convolución 5\n",
    "model.add(Conv2D(base_filtros * 4, kernel_size, padding='same',\n",
    "                    kernel_regularizer=regularizers.l2(w_regularizer)))\n",
    "model.add(Activation('relu'))\n",
    "model.add(BatchNormalization())\n",
    "## Convolución 6\n",
    "model.add(Conv2D(base_filtros * 4, kernel_size, padding='same',\n",
    "                    kernel_regularizer=regularizers.l2(w_regularizer)))\n",
    "model.add(Activation('relu'))\n",
    "model.add(BatchNormalization())\n",
    "model.add(MaxPooling2D(pool_size=(2, 2)))\n",
    "model.add(Dropout(0.4))\n",
    "## Clasificación\n",
    "model.add(Flatten()) # Aplanamos los datos\n",
    "model.add(Dense(num_classes, activation='softmax')) # Capa de salida\n",
    "# Resumen del modelo\n",
    "model.summary()"
   ]
  },
  {
   "attachments": {},
   "cell_type": "markdown",
   "metadata": {},
   "source": [
    "## Compilación del modelo"
   ]
  },
  {
   "cell_type": "code",
   "execution_count": 14,
   "metadata": {},
   "outputs": [],
   "source": [
    "model.compile(loss='categorical_crossentropy', # Función de pérdida\n",
    "                optimizer='rmsprop', # Optimizador\n",
    "                metrics=['accuracy']) # Métricas a monitorear"
   ]
  },
  {
   "cell_type": "code",
   "execution_count": 15,
   "metadata": {},
   "outputs": [
    {
     "name": "stdout",
     "output_type": "stream",
     "text": [
      "Epoch 1/100\n",
      "1407/1407 - 84s - loss: 1.8232 - accuracy: 0.4684 - val_loss: 1.3479 - val_accuracy: 0.5646 - 84s/epoch - 60ms/step\n",
      "Epoch 2/100\n",
      "1407/1407 - 49s - loss: 1.1688 - accuracy: 0.6386 - val_loss: 1.3973 - val_accuracy: 0.5720 - 49s/epoch - 35ms/step\n",
      "Epoch 3/100\n",
      "1407/1407 - 50s - loss: 0.9801 - accuracy: 0.6966 - val_loss: 1.0304 - val_accuracy: 0.6898 - 50s/epoch - 36ms/step\n",
      "Epoch 4/100\n",
      "1407/1407 - 50s - loss: 0.8913 - accuracy: 0.7308 - val_loss: 0.9868 - val_accuracy: 0.7092 - 50s/epoch - 35ms/step\n",
      "Epoch 5/100\n",
      "1407/1407 - 39s - loss: 0.8193 - accuracy: 0.7606 - val_loss: 1.1114 - val_accuracy: 0.6866 - 39s/epoch - 28ms/step\n",
      "Epoch 6/100\n",
      "1407/1407 - 37s - loss: 0.7749 - accuracy: 0.7777 - val_loss: 0.8228 - val_accuracy: 0.7646 - 37s/epoch - 27ms/step\n",
      "Epoch 7/100\n",
      "1407/1407 - 38s - loss: 0.7431 - accuracy: 0.7917 - val_loss: 1.2616 - val_accuracy: 0.6564 - 38s/epoch - 27ms/step\n",
      "Epoch 8/100\n",
      "1407/1407 - 38s - loss: 0.7164 - accuracy: 0.8014 - val_loss: 0.7387 - val_accuracy: 0.8032 - 38s/epoch - 27ms/step\n",
      "Epoch 9/100\n",
      "1407/1407 - 38s - loss: 0.6960 - accuracy: 0.8110 - val_loss: 0.6889 - val_accuracy: 0.8188 - 38s/epoch - 27ms/step\n",
      "Epoch 10/100\n",
      "1407/1407 - 38s - loss: 0.6815 - accuracy: 0.8189 - val_loss: 0.7072 - val_accuracy: 0.8164 - 38s/epoch - 27ms/step\n",
      "Epoch 11/100\n",
      "1407/1407 - 38s - loss: 0.6686 - accuracy: 0.8264 - val_loss: 0.7017 - val_accuracy: 0.8210 - 38s/epoch - 27ms/step\n",
      "Epoch 12/100\n",
      "1407/1407 - 38s - loss: 0.6491 - accuracy: 0.8330 - val_loss: 0.7344 - val_accuracy: 0.8056 - 38s/epoch - 27ms/step\n",
      "Epoch 13/100\n",
      "1407/1407 - 49s - loss: 0.6459 - accuracy: 0.8364 - val_loss: 0.7766 - val_accuracy: 0.8034 - 49s/epoch - 35ms/step\n",
      "Epoch 14/100\n",
      "1407/1407 - 50s - loss: 0.6345 - accuracy: 0.8401 - val_loss: 0.7247 - val_accuracy: 0.8194 - 50s/epoch - 35ms/step\n",
      "Epoch 15/100\n",
      "1407/1407 - 61s - loss: 0.6315 - accuracy: 0.8442 - val_loss: 0.7295 - val_accuracy: 0.8188 - 61s/epoch - 44ms/step\n",
      "Epoch 16/100\n",
      "1407/1407 - 62s - loss: 0.6168 - accuracy: 0.8504 - val_loss: 0.6758 - val_accuracy: 0.8352 - 62s/epoch - 44ms/step\n",
      "Epoch 17/100\n",
      "1407/1407 - 57s - loss: 0.6165 - accuracy: 0.8518 - val_loss: 0.6900 - val_accuracy: 0.8324 - 57s/epoch - 40ms/step\n",
      "Epoch 18/100\n",
      "1407/1407 - 55s - loss: 0.6078 - accuracy: 0.8546 - val_loss: 0.7505 - val_accuracy: 0.8124 - 55s/epoch - 39ms/step\n",
      "Epoch 19/100\n",
      "1407/1407 - 58s - loss: 0.6104 - accuracy: 0.8540 - val_loss: 0.6843 - val_accuracy: 0.8334 - 58s/epoch - 41ms/step\n",
      "Epoch 20/100\n",
      "1407/1407 - 57s - loss: 0.6044 - accuracy: 0.8565 - val_loss: 0.7073 - val_accuracy: 0.8316 - 57s/epoch - 40ms/step\n",
      "Epoch 21/100\n",
      "1407/1407 - 55s - loss: 0.5972 - accuracy: 0.8613 - val_loss: 0.8409 - val_accuracy: 0.7918 - 55s/epoch - 39ms/step\n",
      "Epoch 22/100\n",
      "1407/1407 - 52s - loss: 0.5939 - accuracy: 0.8641 - val_loss: 0.6740 - val_accuracy: 0.8400 - 52s/epoch - 37ms/step\n",
      "Epoch 23/100\n",
      "1407/1407 - 53s - loss: 0.5913 - accuracy: 0.8634 - val_loss: 0.7282 - val_accuracy: 0.8190 - 53s/epoch - 38ms/step\n",
      "Epoch 24/100\n",
      "1407/1407 - 41s - loss: 0.5899 - accuracy: 0.8656 - val_loss: 0.7281 - val_accuracy: 0.8222 - 41s/epoch - 29ms/step\n",
      "Epoch 25/100\n",
      "1407/1407 - 40s - loss: 0.5931 - accuracy: 0.8640 - val_loss: 0.7367 - val_accuracy: 0.8222 - 40s/epoch - 28ms/step\n",
      "Epoch 26/100\n",
      "1407/1407 - 40s - loss: 0.5896 - accuracy: 0.8663 - val_loss: 0.6736 - val_accuracy: 0.8462 - 40s/epoch - 29ms/step\n",
      "Epoch 27/100\n",
      "1407/1407 - 38s - loss: 0.5794 - accuracy: 0.8717 - val_loss: 0.6539 - val_accuracy: 0.8560 - 38s/epoch - 27ms/step\n",
      "Epoch 28/100\n",
      "1407/1407 - 36s - loss: 0.5799 - accuracy: 0.8728 - val_loss: 0.7195 - val_accuracy: 0.8284 - 36s/epoch - 26ms/step\n",
      "Epoch 29/100\n",
      "1407/1407 - 39s - loss: 0.5742 - accuracy: 0.8720 - val_loss: 0.7052 - val_accuracy: 0.8410 - 39s/epoch - 28ms/step\n",
      "Epoch 30/100\n",
      "1407/1407 - 38s - loss: 0.5776 - accuracy: 0.8728 - val_loss: 0.8562 - val_accuracy: 0.7880 - 38s/epoch - 27ms/step\n",
      "Epoch 31/100\n",
      "1407/1407 - 46s - loss: 0.5746 - accuracy: 0.8741 - val_loss: 0.7469 - val_accuracy: 0.8318 - 46s/epoch - 33ms/step\n",
      "Epoch 32/100\n",
      "1407/1407 - 53s - loss: 0.5809 - accuracy: 0.8710 - val_loss: 0.6894 - val_accuracy: 0.8364 - 53s/epoch - 38ms/step\n",
      "Epoch 33/100\n",
      "1407/1407 - 57s - loss: 0.5701 - accuracy: 0.8761 - val_loss: 0.6293 - val_accuracy: 0.8606 - 57s/epoch - 40ms/step\n",
      "Epoch 34/100\n",
      "1407/1407 - 58s - loss: 0.5696 - accuracy: 0.8764 - val_loss: 0.7801 - val_accuracy: 0.8166 - 58s/epoch - 41ms/step\n",
      "Epoch 35/100\n",
      "1407/1407 - 55s - loss: 0.5667 - accuracy: 0.8777 - val_loss: 0.6565 - val_accuracy: 0.8504 - 55s/epoch - 39ms/step\n",
      "Epoch 36/100\n",
      "1407/1407 - 56s - loss: 0.5687 - accuracy: 0.8782 - val_loss: 0.6776 - val_accuracy: 0.8408 - 56s/epoch - 40ms/step\n",
      "Epoch 37/100\n",
      "1407/1407 - 39s - loss: 0.5695 - accuracy: 0.8780 - val_loss: 0.6725 - val_accuracy: 0.8464 - 39s/epoch - 27ms/step\n",
      "Epoch 38/100\n",
      "1407/1407 - 39s - loss: 0.5610 - accuracy: 0.8800 - val_loss: 0.7335 - val_accuracy: 0.8252 - 39s/epoch - 28ms/step\n",
      "Epoch 39/100\n",
      "1407/1407 - 39s - loss: 0.5605 - accuracy: 0.8803 - val_loss: 0.6637 - val_accuracy: 0.8550 - 39s/epoch - 28ms/step\n",
      "Epoch 40/100\n",
      "1407/1407 - 41s - loss: 0.5592 - accuracy: 0.8804 - val_loss: 0.6396 - val_accuracy: 0.8618 - 41s/epoch - 29ms/step\n",
      "Epoch 41/100\n",
      "1407/1407 - 39s - loss: 0.5634 - accuracy: 0.8802 - val_loss: 0.6871 - val_accuracy: 0.8454 - 39s/epoch - 28ms/step\n",
      "Epoch 42/100\n",
      "1407/1407 - 38s - loss: 0.5581 - accuracy: 0.8820 - val_loss: 0.6664 - val_accuracy: 0.8504 - 38s/epoch - 27ms/step\n",
      "Epoch 43/100\n",
      "1407/1407 - 39s - loss: 0.5575 - accuracy: 0.8818 - val_loss: 0.6973 - val_accuracy: 0.8336 - 39s/epoch - 28ms/step\n",
      "Epoch 44/100\n",
      "1407/1407 - 46s - loss: 0.5579 - accuracy: 0.8836 - val_loss: 0.6784 - val_accuracy: 0.8464 - 46s/epoch - 33ms/step\n",
      "Epoch 45/100\n",
      "1407/1407 - 60s - loss: 0.5557 - accuracy: 0.8837 - val_loss: 0.9209 - val_accuracy: 0.7876 - 60s/epoch - 42ms/step\n",
      "Epoch 46/100\n",
      "1407/1407 - 59s - loss: 0.5533 - accuracy: 0.8847 - val_loss: 0.6740 - val_accuracy: 0.8540 - 59s/epoch - 42ms/step\n",
      "Epoch 47/100\n",
      "1407/1407 - 59s - loss: 0.5493 - accuracy: 0.8851 - val_loss: 0.7855 - val_accuracy: 0.8196 - 59s/epoch - 42ms/step\n",
      "Epoch 48/100\n",
      "1407/1407 - 61s - loss: 0.5528 - accuracy: 0.8844 - val_loss: 0.7664 - val_accuracy: 0.8252 - 61s/epoch - 44ms/step\n",
      "Epoch 49/100\n",
      "1407/1407 - 57s - loss: 0.5577 - accuracy: 0.8843 - val_loss: 0.6917 - val_accuracy: 0.8474 - 57s/epoch - 41ms/step\n",
      "Epoch 50/100\n",
      "1407/1407 - 55s - loss: 0.5461 - accuracy: 0.8868 - val_loss: 0.6841 - val_accuracy: 0.8476 - 55s/epoch - 39ms/step\n",
      "Epoch 51/100\n",
      "1407/1407 - 55s - loss: 0.5487 - accuracy: 0.8845 - val_loss: 0.6776 - val_accuracy: 0.8554 - 55s/epoch - 39ms/step\n",
      "Epoch 52/100\n",
      "1407/1407 - 57s - loss: 0.5506 - accuracy: 0.8880 - val_loss: 0.6909 - val_accuracy: 0.8496 - 57s/epoch - 40ms/step\n",
      "Epoch 53/100\n",
      "1407/1407 - 55s - loss: 0.5485 - accuracy: 0.8881 - val_loss: 0.6622 - val_accuracy: 0.8558 - 55s/epoch - 39ms/step\n",
      "Epoch 54/100\n",
      "1407/1407 - 57s - loss: 0.5428 - accuracy: 0.8872 - val_loss: 0.6955 - val_accuracy: 0.8430 - 57s/epoch - 41ms/step\n",
      "Epoch 55/100\n",
      "1407/1407 - 43s - loss: 0.5412 - accuracy: 0.8883 - val_loss: 0.6815 - val_accuracy: 0.8490 - 43s/epoch - 31ms/step\n",
      "Epoch 56/100\n",
      "1407/1407 - 38s - loss: 0.5435 - accuracy: 0.8885 - val_loss: 0.6560 - val_accuracy: 0.8628 - 38s/epoch - 27ms/step\n",
      "Epoch 57/100\n",
      "1407/1407 - 40s - loss: 0.5443 - accuracy: 0.8906 - val_loss: 0.6512 - val_accuracy: 0.8604 - 40s/epoch - 28ms/step\n",
      "Epoch 58/100\n",
      "1407/1407 - 39s - loss: 0.5467 - accuracy: 0.8873 - val_loss: 0.7321 - val_accuracy: 0.8340 - 39s/epoch - 27ms/step\n",
      "Epoch 59/100\n",
      "1407/1407 - 38s - loss: 0.5448 - accuracy: 0.8883 - val_loss: 0.6963 - val_accuracy: 0.8438 - 38s/epoch - 27ms/step\n",
      "Epoch 60/100\n",
      "1407/1407 - 39s - loss: 0.5427 - accuracy: 0.8888 - val_loss: 0.6725 - val_accuracy: 0.8594 - 39s/epoch - 28ms/step\n",
      "Epoch 61/100\n",
      "1407/1407 - 38s - loss: 0.5454 - accuracy: 0.8902 - val_loss: 0.7878 - val_accuracy: 0.8262 - 38s/epoch - 27ms/step\n",
      "Epoch 62/100\n",
      "1407/1407 - 41s - loss: 0.5410 - accuracy: 0.8904 - val_loss: 0.7031 - val_accuracy: 0.8454 - 41s/epoch - 29ms/step\n",
      "Epoch 63/100\n",
      "1407/1407 - 56s - loss: 0.5405 - accuracy: 0.8912 - val_loss: 0.6949 - val_accuracy: 0.8504 - 56s/epoch - 40ms/step\n",
      "Epoch 64/100\n",
      "1407/1407 - 55s - loss: 0.5379 - accuracy: 0.8909 - val_loss: 0.6891 - val_accuracy: 0.8506 - 55s/epoch - 39ms/step\n",
      "Epoch 65/100\n",
      "1407/1407 - 54s - loss: 0.5391 - accuracy: 0.8926 - val_loss: 0.7423 - val_accuracy: 0.8298 - 54s/epoch - 38ms/step\n",
      "Epoch 66/100\n",
      "1407/1407 - 50s - loss: 0.5348 - accuracy: 0.8926 - val_loss: 0.6903 - val_accuracy: 0.8492 - 50s/epoch - 35ms/step\n",
      "Epoch 67/100\n",
      "1407/1407 - 51s - loss: 0.5407 - accuracy: 0.8916 - val_loss: 0.6748 - val_accuracy: 0.8536 - 51s/epoch - 36ms/step\n",
      "Epoch 68/100\n",
      "1407/1407 - 51s - loss: 0.5359 - accuracy: 0.8919 - val_loss: 0.7111 - val_accuracy: 0.8440 - 51s/epoch - 36ms/step\n",
      "Epoch 69/100\n",
      "1407/1407 - 57s - loss: 0.5414 - accuracy: 0.8908 - val_loss: 0.7137 - val_accuracy: 0.8458 - 57s/epoch - 41ms/step\n",
      "Epoch 70/100\n",
      "1407/1407 - 56s - loss: 0.5360 - accuracy: 0.8941 - val_loss: 0.6464 - val_accuracy: 0.8672 - 56s/epoch - 40ms/step\n",
      "Epoch 71/100\n",
      "1407/1407 - 53s - loss: 0.5387 - accuracy: 0.8916 - val_loss: 0.6712 - val_accuracy: 0.8552 - 53s/epoch - 38ms/step\n",
      "Epoch 72/100\n",
      "1407/1407 - 58s - loss: 0.5333 - accuracy: 0.8924 - val_loss: 0.6832 - val_accuracy: 0.8618 - 58s/epoch - 41ms/step\n",
      "Epoch 73/100\n",
      "1407/1407 - 55s - loss: 0.5348 - accuracy: 0.8927 - val_loss: 0.6620 - val_accuracy: 0.8616 - 55s/epoch - 39ms/step\n",
      "Epoch 74/100\n",
      "1407/1407 - 49s - loss: 0.5359 - accuracy: 0.8930 - val_loss: 0.6475 - val_accuracy: 0.8604 - 49s/epoch - 35ms/step\n",
      "Epoch 75/100\n",
      "1407/1407 - 54s - loss: 0.5375 - accuracy: 0.8929 - val_loss: 0.6923 - val_accuracy: 0.8506 - 54s/epoch - 38ms/step\n",
      "Epoch 76/100\n",
      "1407/1407 - 53s - loss: 0.5339 - accuracy: 0.8929 - val_loss: 0.6871 - val_accuracy: 0.8496 - 53s/epoch - 38ms/step\n",
      "Epoch 77/100\n",
      "1407/1407 - 53s - loss: 0.5355 - accuracy: 0.8927 - val_loss: 0.6553 - val_accuracy: 0.8618 - 53s/epoch - 37ms/step\n",
      "Epoch 78/100\n",
      "1407/1407 - 54s - loss: 0.5286 - accuracy: 0.8946 - val_loss: 0.6793 - val_accuracy: 0.8558 - 54s/epoch - 39ms/step\n",
      "Epoch 79/100\n",
      "1407/1407 - 47s - loss: 0.5339 - accuracy: 0.8944 - val_loss: 0.6364 - val_accuracy: 0.8654 - 47s/epoch - 34ms/step\n",
      "Epoch 80/100\n",
      "1407/1407 - 41s - loss: 0.5320 - accuracy: 0.8946 - val_loss: 0.6664 - val_accuracy: 0.8564 - 41s/epoch - 29ms/step\n",
      "Epoch 81/100\n",
      "1407/1407 - 38s - loss: 0.5292 - accuracy: 0.8938 - val_loss: 0.7177 - val_accuracy: 0.8488 - 38s/epoch - 27ms/step\n",
      "Epoch 82/100\n",
      "1407/1407 - 38s - loss: 0.5290 - accuracy: 0.8968 - val_loss: 0.7090 - val_accuracy: 0.8530 - 38s/epoch - 27ms/step\n",
      "Epoch 83/100\n",
      "1407/1407 - 38s - loss: 0.5278 - accuracy: 0.8978 - val_loss: 0.6984 - val_accuracy: 0.8534 - 38s/epoch - 27ms/step\n",
      "Epoch 84/100\n",
      "1407/1407 - 38s - loss: 0.5300 - accuracy: 0.8956 - val_loss: 0.6705 - val_accuracy: 0.8538 - 38s/epoch - 27ms/step\n",
      "Epoch 85/100\n",
      "1407/1407 - 39s - loss: 0.5297 - accuracy: 0.8957 - val_loss: 0.6984 - val_accuracy: 0.8492 - 39s/epoch - 28ms/step\n",
      "Epoch 86/100\n",
      "1407/1407 - 38s - loss: 0.5277 - accuracy: 0.8973 - val_loss: 0.6970 - val_accuracy: 0.8544 - 38s/epoch - 27ms/step\n",
      "Epoch 87/100\n",
      "1407/1407 - 46s - loss: 0.5274 - accuracy: 0.8972 - val_loss: 0.6326 - val_accuracy: 0.8718 - 46s/epoch - 33ms/step\n",
      "Epoch 88/100\n",
      "1407/1407 - 53s - loss: 0.5307 - accuracy: 0.8934 - val_loss: 0.6771 - val_accuracy: 0.8606 - 53s/epoch - 38ms/step\n",
      "Epoch 89/100\n",
      "1407/1407 - 50s - loss: 0.5278 - accuracy: 0.8970 - val_loss: 0.6777 - val_accuracy: 0.8598 - 50s/epoch - 35ms/step\n",
      "Epoch 90/100\n",
      "1407/1407 - 53s - loss: 0.5308 - accuracy: 0.8958 - val_loss: 0.6547 - val_accuracy: 0.8594 - 53s/epoch - 37ms/step\n",
      "Epoch 91/100\n",
      "1407/1407 - 50s - loss: 0.5289 - accuracy: 0.8967 - val_loss: 0.6392 - val_accuracy: 0.8688 - 50s/epoch - 35ms/step\n",
      "Epoch 92/100\n",
      "1407/1407 - 50s - loss: 0.5261 - accuracy: 0.8960 - val_loss: 0.6948 - val_accuracy: 0.8522 - 50s/epoch - 36ms/step\n",
      "Epoch 93/100\n",
      "1407/1407 - 43s - loss: 0.5257 - accuracy: 0.8981 - val_loss: 0.8148 - val_accuracy: 0.8198 - 43s/epoch - 31ms/step\n",
      "Epoch 94/100\n",
      "1407/1407 - 39s - loss: 0.5284 - accuracy: 0.8972 - val_loss: 0.6704 - val_accuracy: 0.8614 - 39s/epoch - 28ms/step\n",
      "Epoch 95/100\n",
      "1407/1407 - 39s - loss: 0.5234 - accuracy: 0.8993 - val_loss: 0.7734 - val_accuracy: 0.8374 - 39s/epoch - 28ms/step\n",
      "Epoch 96/100\n",
      "1407/1407 - 39s - loss: 0.5272 - accuracy: 0.8979 - val_loss: 0.6688 - val_accuracy: 0.8648 - 39s/epoch - 28ms/step\n",
      "Epoch 97/100\n",
      "1407/1407 - 39s - loss: 0.5219 - accuracy: 0.8986 - val_loss: 0.6493 - val_accuracy: 0.8656 - 39s/epoch - 28ms/step\n",
      "Epoch 98/100\n",
      "1407/1407 - 39s - loss: 0.5241 - accuracy: 0.8974 - val_loss: 0.6603 - val_accuracy: 0.8646 - 39s/epoch - 27ms/step\n",
      "Epoch 99/100\n",
      "1407/1407 - 38s - loss: 0.5277 - accuracy: 0.8978 - val_loss: 0.7128 - val_accuracy: 0.8460 - 38s/epoch - 27ms/step\n",
      "Epoch 100/100\n",
      "1407/1407 - 38s - loss: 0.5254 - accuracy: 0.8979 - val_loss: 0.6551 - val_accuracy: 0.8610 - 38s/epoch - 27ms/step\n"
     ]
    }
   ],
   "source": [
    "# Entrenamos el modelo\n",
    "hist = model.fit(x_training, y_training, batch_size=32, epochs=100,\n",
    "                    validation_data=(x_val, y_val),\n",
    "                    verbose=2, shuffle=True)"
   ]
  },
  {
   "cell_type": "code",
   "execution_count": 16,
   "metadata": {},
   "outputs": [
    {
     "data": {
      "image/png": "[encoded data removed]",
      "text/plain": [
       "<Figure size 640x480 with 1 Axes>"
      ]
     },
     "metadata": {},
     "output_type": "display_data"
    }
   ],
   "source": [
    "# Graficamos los resultados\n",
    "plt.plot(hist.history['accuracy'], label='Entrenamiento')\n",
    "plt.plot(hist.history['val_accuracy'], label='Validación')\n",
    "plt.legend()\n",
    "plt.show()"
   ]
  },
  {
   "attachments": {},
   "cell_type": "markdown",
   "metadata": {},
   "source": [
    "## Evaluación del modelo"
   ]
  },
  {
   "cell_type": "code",
   "execution_count": 21,
   "metadata": {},
   "outputs": [
    {
     "name": "stdout",
     "output_type": "stream",
     "text": [
      "313/313 [==============================] - 6s 19ms/step - loss: 0.6885 - accuracy: 0.8529\n"
     ]
    },
    {
     "data": {
      "text/plain": [
       "[0.6884617209434509, 0.8529000282287598]"
      ]
     },
     "execution_count": 21,
     "metadata": {},
     "output_type": "execute_result"
    }
   ],
   "source": [
    "# Evaluamos el modelo\n",
    "model.evaluate(x_test, y_test)"
   ]
  }
 ],
 "metadata": {
  "kernelspec": {
   "display_name": "tf",
   "language": "python",
   "name": "python3"
  },
  "language_info": {
   "codemirror_mode": {
    "name": "ipython",
    "version": 3
   },
   "file_extension": ".py",
   "mimetype": "text/x-python",
   "name": "python",
   "nbconvert_exporter": "python",
   "pygments_lexer": "ipython3",
   "version": "3.9.16"
  },
  "orig_nbformat": 4
 },
 "nbformat": 4,
 "nbformat_minor": 2
}
